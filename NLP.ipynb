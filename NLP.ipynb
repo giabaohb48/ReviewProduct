{
 "cells": [
  {
   "cell_type": "code",
   "execution_count": 207,
   "metadata": {},
   "outputs": [],
   "source": [
    "from pyspark.sql import SparkSession\n",
    "from pyspark.sql import functions as f\n",
    "import pandas as pd\n",
    "import seaborn as sns\n",
    "import numpy as np\n",
    "import matplotlib.pyplot as plt\n",
    "from pyspark.ml.feature import RegexTokenizer, HashingTF, IDF\n",
    "from pyspark.ml.classification import LogisticRegression\n",
    "from pyspark.ml import Pipeline\n",
    "from pyspark.ml.evaluation import MulticlassClassificationEvaluator\n",
    "from pyspark.sql.functions import avg,count\n",
    "from underthesea import word_tokenize"
   ]
  },
  {
   "cell_type": "code",
   "execution_count": 193,
   "metadata": {},
   "outputs": [],
   "source": [
    "spark = SparkSession.builder.getOrCreate()\n",
    "spark.conf.set(\"spark.sql.execution.arrow.enabled\", \"true\")"
   ]
  },
  {
   "cell_type": "code",
   "execution_count": 198,
   "metadata": {},
   "outputs": [
    {
     "name": "stdout",
     "output_type": "stream",
     "text": [
      "+------+--------------------+\n",
      "|status|             content|\n",
      "+------+--------------------+\n",
      "|     2|K có ảnh nên dùng...|\n",
      "|     2|Sản phẩm rất xinh...|\n",
      "|     0|Nhận hàng đúng mô...|\n",
      "|     2|Mua hộ nên ko có ...|\n",
      "|     2|Tai nghe nghe ổn,...|\n",
      "+------+--------------------+\n",
      "only showing top 5 rows\n",
      "\n"
     ]
    }
   ],
   "source": [
    "df = spark.read.csv('data.csv', inferSchema=True, header=True)\n",
    "df.show(5)"
   ]
  },
  {
   "cell_type": "code",
   "execution_count": 199,
   "metadata": {},
   "outputs": [],
   "source": [
    "df_pd = df.toPandas()['status'].value_counts()"
   ]
  },
  {
   "cell_type": "code",
   "execution_count": 200,
   "metadata": {},
   "outputs": [
    {
     "name": "stderr",
     "output_type": "stream",
     "text": [
      "D:\\Soft\\anaconda\\lib\\site-packages\\seaborn\\_decorators.py:36: FutureWarning: Pass the following variable as a keyword arg: x. From version 0.12, the only valid positional argument will be `data`, and passing other arguments without an explicit keyword will result in an error or misinterpretation.\n",
      "  warnings.warn(\n"
     ]
    },
    {
     "data": {
      "text/plain": [
       "<AxesSubplot:xlabel='status', ylabel='count'>"
      ]
     },
     "execution_count": 200,
     "metadata": {},
     "output_type": "execute_result"
    },
    {
     "data": {
      "image/png": "[encoded data removed]",
      "text/plain": [
       "<Figure size 432x288 with 1 Axes>"
      ]
     },
     "metadata": {
      "needs_background": "light"
     },
     "output_type": "display_data"
    }
   ],
   "source": [
    "sns.countplot(df.toPandas()['status'])"
   ]
  },
  {
   "cell_type": "markdown",
   "metadata": {},
   "source": [
    "# Preprocess data"
   ]
  },
  {
   "cell_type": "code",
   "execution_count": 188,
   "metadata": {},
   "outputs": [],
   "source": [
    "# Tokenizer\n",
    "def tokenizer(row):\n",
    "    return word_tokenize(row, format='text')\n"
   ]
  },
  {
   "cell_type": "code",
   "execution_count": 189,
   "metadata": {},
   "outputs": [],
   "source": [
    "stopwords = []\n",
    "with open(\"vietnamese-stopwords-dash.txt\", encoding='utf-8') as f:\n",
    "    for line in f:\n",
    "        stopwords.append(line.split('\\n')[0])"
   ]
  },
  {
   "cell_type": "code",
   "execution_count": 190,
   "metadata": {},
   "outputs": [],
   "source": [
    "def remove_stop_words(corpus):\n",
    "    results = corpus.split(' ')\n",
    "    for stopword in stopwords:\n",
    "        if stopword in results:\n",
    "            results.remove(stopword)    \n",
    "    return results"
   ]
  },
  {
   "cell_type": "code",
   "execution_count": 202,
   "metadata": {},
   "outputs": [],
   "source": [
    "def preprocess_data(data):\n",
    "        \n",
    "        char_replace_regex = r\"[\\,,\\.,\\;,\\“,\\”,\\\",\\',\\:,\\!,\\?,\\-,\\@,\\#,\\$,\\%,\\^,\\&,\\*]\"\n",
    "        data = (data.withColumn(\"content\", f.regexp_replace(f.col(\"content\"), char_replace_regex, \"\"))\n",
    "                .withColumn('content', f.regexp_replace(f.col('content'), \"[0-9]\", \" \"))\n",
    "                .withColumn('content', f.regexp_replace(f.col('content'), \" +\", \" \"))\n",
    "                .withColumn('content', f.lower(f.col('content')))\n",
    "                .withColumn('content', f.trim(f.col('content')))\n",
    "                .filter(\"content != ''\")\n",
    "        )  \n",
    "        df_pd = data.toPandas()\n",
    "        df_pd['token'] = df_pd['content'].apply(tokenizer)\n",
    "        df_pd['token'] = df_pd['token'].apply(remove_stop_words)\n",
    "        df = spark.createDataFrame(df_pd)\n",
    "\n",
    "        return df\n"
   ]
  },
  {
   "cell_type": "code",
   "execution_count": 208,
   "metadata": {},
   "outputs": [],
   "source": [
    "df_clean = preprocess_data(df)"
   ]
  },
  {
   "cell_type": "code",
   "execution_count": 209,
   "metadata": {},
   "outputs": [
    {
     "name": "stdout",
     "output_type": "stream",
     "text": [
      "+------+--------------------+--------------------+\n",
      "|status|             content|               token|\n",
      "+------+--------------------+--------------------+\n",
      "|     2|k có ảnh nên dùng...|[k, ảnh, tạm, ảnh...|\n",
      "|     2|sản phẩm rất xinh...|[sản_phẩm, xinh_đ...|\n",
      "|     0|nhận hàng đúng mô...|[hàng, mô_tả, tai...|\n",
      "|     2|mua hộ nên ko có ...|[mua, hộ, ko, ảnh...|\n",
      "|     2|tai nghe nghe ổn ...|[tai, nghe, ổn, g...|\n",
      "+------+--------------------+--------------------+\n",
      "only showing top 5 rows\n",
      "\n"
     ]
    }
   ],
   "source": [
    "df_clean.show(5)"
   ]
  },
  {
   "cell_type": "markdown",
   "metadata": {},
   "source": [
    "# Train model"
   ]
  },
  {
   "cell_type": "code",
   "execution_count": 210,
   "metadata": {},
   "outputs": [],
   "source": [
    "hashing_tf = HashingTF(inputCol='token', outputCol='term_frequency')\n",
    "\n",
    "idf = IDF(inputCol='term_frequency', outputCol='features',minDocFreq=5)\n",
    "\n",
    "lr = LogisticRegression(labelCol='status')"
   ]
  },
  {
   "cell_type": "code",
   "execution_count": 261,
   "metadata": {},
   "outputs": [],
   "source": [
    "(train_data, test_data) = df_clean.randomSplit([0.99,0.01], seed=13)"
   ]
  },
  {
   "cell_type": "code",
   "execution_count": 262,
   "metadata": {},
   "outputs": [],
   "source": [
    "pipeline = Pipeline(stages=[hashing_tf, idf, lr])\n",
    "model_lr = pipeline.fit(train_data)"
   ]
  },
  {
   "cell_type": "code",
   "execution_count": 263,
   "metadata": {},
   "outputs": [],
   "source": [
    "trained_df = model_lr.transform(train_data)\n",
    "test_df = model_lr.transform(test_data)"
   ]
  },
  {
   "cell_type": "markdown",
   "metadata": {},
   "source": [
    "# Evaluate model"
   ]
  },
  {
   "cell_type": "code",
   "execution_count": 264,
   "metadata": {},
   "outputs": [
    {
     "name": "stdout",
     "output_type": "stream",
     "text": [
      "Accuracy training data:  0.9896551724137931\n",
      "Accuracy testing data:  0.75\n"
     ]
    }
   ],
   "source": [
    "evaluator = MulticlassClassificationEvaluator(labelCol='status', metricName='accuracy')\n",
    "acc_train = evaluator.evaluate(trained_df)\n",
    "acc_test = evaluator.evaluate(test_df)\n",
    "\n",
    "print('Accuracy training data: ', acc_train)\n",
    "print('Accuracy testing data: ', acc_test)\n",
    "\n"
   ]
  },
  {
   "cell_type": "code",
   "execution_count": 120,
   "metadata": {},
   "outputs": [],
   "source": [
    "# model_lr.save(\"E:\\\\1OneDrive\\\\OneDrive - Trường ĐH CNTT - University of Information Technology\\\\2021_1\\\\Big Data\\\\project\\\\model_lr.pkl\")"
   ]
  },
  {
   "cell_type": "markdown",
   "metadata": {},
   "source": [
    "# Test model with product"
   ]
  },
  {
   "cell_type": "code",
   "execution_count": 269,
   "metadata": {},
   "outputs": [
    {
     "name": "stderr",
     "output_type": "stream",
     "text": [
      "\n",
      "\n",
      "====== WebDriver manager ======\n",
      "Current google-chrome version is 96.0.4664\n",
      "Get LATEST chromedriver version for 96.0.4664 google-chrome\n",
      "Driver [C:\\Users\\giaba\\.wdm\\drivers\\chromedriver\\win32\\96.0.4664.45\\chromedriver.exe] found in cache\n"
     ]
    },
    {
     "name": "stdout",
     "output_type": "stream",
     "text": [
      "Loading url= https://shopee.vn/Robot-h%C3%BAt-b%E1%BB%A5i-Bowai-th%C3%B4ng-minh-Robot-lau-nh%C3%A0-t%E1%BB%B1-%C4%91%E1%BB%99ng-c%C3%B4ng-ngh%E1%BB%87-AI-3-trong-1-i.236159821.8842672143?sp_atk=06f423da-addb-49d8-8895-bd0ef651bcd9\n"
     ]
    },
    {
     "name": "stderr",
     "output_type": "stream",
     "text": [
      "D:\\Soft\\anaconda\\lib\\site-packages\\selenium\\webdriver\\remote\\webelement.py:484: UserWarning: find_element_by_* commands are deprecated. Please use find_element() instead\n",
      "  warnings.warn(\"find_element_by_* commands are deprecated. Please use find_element() instead\")\n"
     ]
    },
    {
     "name": "stdout",
     "output_type": "stream",
     "text": [
      "next page\n",
      "next page\n",
      "next page\n",
      "next page\n",
      "next page\n"
     ]
    }
   ],
   "source": [
    "import crawl\n",
    "\n",
    "url = 'https://shopee.vn/Robot-h%C3%BAt-b%E1%BB%A5i-Bowai-th%C3%B4ng-minh-Robot-lau-nh%C3%A0-t%E1%BB%B1-%C4%91%E1%BB%99ng-c%C3%B4ng-ngh%E1%BB%87-AI-3-trong-1-i.236159821.8842672143?sp_atk=06f423da-addb-49d8-8895-bd0ef651bcd9'\n",
    "\n",
    "list_cmt = crawl.load_url_selenium_shopee(url)\n",
    "dict = {'content':list_cmt}\n",
    "df_pd = pd.DataFrame(dict)\n",
    "test_df = spark.createDataFrame(df_pd)\n"
   ]
  },
  {
   "cell_type": "code",
   "execution_count": 366,
   "metadata": {},
   "outputs": [],
   "source": [
    "test_df = preprocess_data(test_df)\n",
    "predict = model_lr.transform(test_df).select('content','prediction')"
   ]
  },
  {
   "cell_type": "code",
   "execution_count": 379,
   "metadata": {
    "scrolled": true
   },
   "outputs": [],
   "source": [
    "result_pd_textlabel = predict.toPandas()\n",
    "\n",
    "result_pd_textlabel['prediction'] = result_pd_textlabel['prediction'].replace([0,1,2], ['Tệ', 'Ổn', 'Tốt'])"
   ]
  },
  {
   "cell_type": "code",
   "execution_count": 380,
   "metadata": {},
   "outputs": [],
   "source": [
    "def analyze(result_pd):\n",
    "    eva_product = result_pd['prediction'].value_counts()\n",
    "    total = result_pd['prediction'].count()\n",
    "    # predict_num = result_pd['prediction'].mean()\n",
    "    \n",
    "    list_eva = [eva_product['Tệ'], eva_product['Ổn'], eva_product['Tốt']]\n",
    "    list_eva_ratio = [num/total for num in list_eva]\n",
    "    index_chosen = np.argmax(list_eva_ratio)\n",
    "    # print(list_eva_ratio)\n",
    "    if (index_chosen==0):\n",
    "        print('Sản phầm khá tệ! Không nên mua :(')\n",
    "    elif (index_chosen==1):\n",
    "        print('Sản phầm ổn! :)')\n",
    "    else:\n",
    "        print('Sản phẩm rất tốt! Nên mua <3')\n",
    "\n",
    "\n"
   ]
  },
  {
   "cell_type": "code",
   "execution_count": 382,
   "metadata": {
    "scrolled": true
   },
   "outputs": [
    {
     "name": "stdout",
     "output_type": "stream",
     "text": [
      "Sản phẩm rất tốt! Nên mua <3\n"
     ]
    },
    {
     "name": "stderr",
     "output_type": "stream",
     "text": [
      "D:\\Soft\\anaconda\\lib\\site-packages\\seaborn\\_decorators.py:36: FutureWarning: Pass the following variable as a keyword arg: x. From version 0.12, the only valid positional argument will be `data`, and passing other arguments without an explicit keyword will result in an error or misinterpretation.\n",
      "  warnings.warn(\n"
     ]
    },
    {
     "data": {
      "image/png": "[encoded data removed]",
      "text/plain": [
       "<Figure size 432x288 with 1 Axes>"
      ]
     },
     "metadata": {
      "needs_background": "light"
     },
     "output_type": "display_data"
    },
    {
     "data": {
      "image/png": "[encoded data removed]",
      "text/plain": [
       "<Figure size 1152x576 with 1 Axes>"
      ]
     },
     "metadata": {},
     "output_type": "display_data"
    }
   ],
   "source": [
    "analyze(result_pd_textlabel)\n",
    "sns.countplot(result_pd_textlabel['prediction'])\n",
    "plt.figure(figsize=(16,8))\n",
    "fig = result_pd_textlabel['prediction'].value_counts().plot(kind='pie',autopct='%1.1f%%', fontsize=14)\n",
    "\n"
   ]
  }
 ],
 "metadata": {
  "interpreter": {
   "hash": "29a99d472272f3c686acc45c016d7f490b7a8a1f639df05590cb7b6024618dd4"
  },
  "kernelspec": {
   "display_name": "Python 3",
   "language": "python",
   "name": "python3"
  },
  "language_info": {
   "codemirror_mode": {
    "name": "ipython",
    "version": 3
   },
   "file_extension": ".py",
   "mimetype": "text/x-python",
   "name": "python",
   "nbconvert_exporter": "python",
   "pygments_lexer": "ipython3",
   "version": "3.8.5"
  }
 },
 "nbformat": 4,
 "nbformat_minor": 2
}
